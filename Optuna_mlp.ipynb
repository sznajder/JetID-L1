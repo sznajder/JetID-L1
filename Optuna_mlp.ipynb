{
 "cells": [
  {
   "cell_type": "code",
   "execution_count": 1,
   "id": "760b8098-f92a-4c2c-aa88-786dbfb0b15e",
   "metadata": {
    "tags": []
   },
   "outputs": [
    {
     "name": "stdout",
     "output_type": "stream",
     "text": [
      "TensorFlow 2.8.0\n",
      "Number of available GPUs : 1\n",
      "Not using GPU !!!\n"
     ]
    }
   ],
   "source": [
    "\"\"\"\n",
    "Optuna example that optimizes a Keras model\n",
    "\"\"\"\n",
    "import optuna\n",
    "from optuna.integration.mlflow import MLflowCallback\n",
    "\n",
    "from sklearn.datasets import load_wine\n",
    "from sklearn.model_selection import train_test_split\n",
    "from sklearn.preprocessing import StandardScaler\n",
    "from tensorflow.keras.backend import clear_session\n",
    "from tensorflow.keras.layers import Input, Dense\n",
    "from tensorflow.keras.models import Sequential\n",
    "from tensorflow.keras.optimizers import SGD, Adam\n",
    "from tensorflow.keras.callbacks import EarlyStopping, ModelCheckpoint, ReduceLROnPlateau\n",
    "from tensorflow.keras import utils\n",
    "import tensorflow as tf\n",
    "\n",
    "\n",
    "print(f\"TensorFlow {tf.__version__}\")\n",
    "gpus = tf.config.list_physical_devices(\"GPU\")\n",
    "if gpus:\n",
    "    print(f\"Number of available GPUs : {len(gpus)}\")\n",
    "    tf.config.set_visible_devices(gpus[0],\"GPU\")\n",
    "    tf.config.experimental.set_memory_growth(gpus[0],True)\n",
    "else:\n",
    "    print(\"No GPU available, using CPU !!!\")    \n",
    "\n",
    "# To disable GPU use\n",
    "tf.config.set_visible_devices([], 'GPU')\n",
    "print(\"Not using GPU !!!\")    \n",
    "\n",
    "\n",
    "NCONSTIT=32\n",
    "NFEAT=3\n",
    "NTRIALS=50\n",
    "METRIC='categorical_accuracy'\n",
    "NEPOCHS = 50\n",
    "BSIZES = [32,64,128]  # batch size for Optuna search\n",
    "MINLR = 0.0001\n",
    "MAXLR = 0.0003\n",
    "MAXNL = 3 # maximum number of layer for Optuna search\n",
    "MINNEU = 8 # minimum number of neurons per layer for Optuna search\n",
    "MAXNEU = 256 # maximum number of neurons per layer for Optuna search\n",
    "\n",
    "# OPTUNA trial syntax\n",
    "# filters=trial.suggest_categorical(\"filters\", [32, 64]),\n",
    "# activation=trial.suggest_categorical(\"activation\", [\"relu\", \"linear\"]),\n",
    "# learning_rate = trial.suggest_float(\"learning_rate\", 1e-5, 1e-1, log=True)\n",
    "# num_hidden = trial.suggest_int(\"n_units_l{}\".format(i), 4, 128, log=True)            \n",
    "            \n",
    "\n",
    "def create_model(trial):\n",
    "    model = Sequential()\n",
    "\n",
    "    # Define the MLP.\n",
    "    nlayers = trial.suggest_int(\"nlayers\", 1, MAXNL)\n",
    "    model = Sequential()\n",
    "    model.add(Input(shape=(NCONSTIT*NFEAT)))\n",
    "    for i in range(nlayers):\n",
    "        nhidden = trial.suggest_int(\"nhidden_l{}\".format(i), MINNEU, MAXNEU, log=True)\n",
    "        model.add(Dense(nhidden, activation=\"relu\"))\n",
    "    model.add(Dense(5, activation=\"softmax\"))\n",
    "\n",
    "    \n",
    "    # Define the optimizer\n",
    "    optim = Adam( learning_rate= trial.suggest_float(\"learning_rate\", MINLR, MAXLR, log=True) )\n",
    "\n",
    "# compile the model\n",
    "    model.compile(optimizer=optim, loss='categorical_crossentropy', metrics=[METRIC])\n",
    "    return model\n",
    "\n",
    "\n",
    "def objective(trial):\n",
    "    # Clear clutter from previous Keras session graphs.\n",
    "    clear_session()\n",
    "    \n",
    "    # early stopping callback\n",
    "    es = EarlyStopping(monitor=METRIC, patience=10)\n",
    "\n",
    "    # Learning rate scheduler \n",
    "    ls = ReduceLROnPlateau(monitor=METRIC, factor=0.2, patience=10)\n",
    "\n",
    "\n",
    "    # model checkpoint callback\n",
    "    # this saves our model architecture + parameters into bestmodel.h5\n",
    "    chkp = ModelCheckpoint('bestmodel.h5', monitor=METRIC, verbose=0, save_best_only=True, mode='auto', save_freq='epoch')\n",
    "\n",
    "#\n",
    "    model = create_model(trial)\n",
    "    model.fit(X_train, Y_train, \n",
    "              batch_size= trial.suggest_categorical(\"bsize\", BSIZES),  \n",
    "              epochs=NEPOCHS, \n",
    "              verbose=0,\n",
    "              validation_data=(X_val, Y_val),\n",
    "              callbacks=[es,ls,chkp],\n",
    "              shuffle=True,\n",
    "              )\n",
    "    # Load the best model\n",
    "    model = tf.keras.models.load_model( 'bestmodel.h5',)\n",
    "    \n",
    "#                                         custom_objects={ \"QDense\": QDense,\"QActivation\": QActivation,\n",
    "#                                                          \"QConv1D\": QConv1D, \"quantized_bits\": quantized_bits,\n",
    "#                                                          \"NodeEdgeProjection\": NodeEdgeProjection,} )                                        \n",
    "    \n",
    "    \n",
    "    # Evaluate the model on the validation data\n",
    "    score = model.evaluate(X_test, Y_test, verbose=2)\n",
    "\n",
    "    return score[1] # return the model accuracy\n",
    "\n"
   ]
  },
  {
   "cell_type": "code",
   "execution_count": 2,
   "id": "2c3b6c03-830b-4f9b-ba15-8a60075c4175",
   "metadata": {},
   "outputs": [
    {
     "name": "stdout",
     "output_type": "stream",
     "text": [
      "\u001b[96m\n",
      "GPU: METAL\u001b[0m\n",
      "Activating procedural GPU memory growth...\n",
      "kfold numbet of folds: 5\n",
      "val fold num: 4\n",
      "\n",
      "----------------\n",
      "Data loading complete:\n",
      "File name: None\n",
      "Training data size: 480,840\n",
      "Test data size: 120,210\n",
      "Number of constituents: 32\n",
      "Number of features: 3\n",
      "----------------\n",
      "\n",
      "(480840, 32, 3)\n",
      "(480840, 96) (120210, 96) (480840, 5) (120210, 5)\n"
     ]
    },
    {
     "name": "stderr",
     "output_type": "stream",
     "text": [
      "[I 2023-11-03 07:26:03,012] Using an existing study with name 'mlp_study' instead of creating a new one.\n",
      "2023-11-03 07:26:03.207554: W tensorflow/core/platform/profile_utils/cpu_utils.cc:128] Failed to get CPU frequency: 0 Hz\n"
     ]
    },
    {
     "name": "stdout",
     "output_type": "stream",
     "text": [
      "3757/3757 - 1s - loss: 1.2525 - categorical_accuracy: 0.4745 - 791ms/epoch - 211us/step\n"
     ]
    },
    {
     "name": "stderr",
     "output_type": "stream",
     "text": [
      "[I 2023-11-03 07:27:21,509] Trial 2 finished with value: 0.47454455494880676 and parameters: {'nlayers': 1, 'nhidden_l0': 42, 'learning_rate': 0.00011802120724693812, 'bsize': 128}. Best is trial 2 with value: 0.47454455494880676.\n"
     ]
    },
    {
     "name": "stdout",
     "output_type": "stream",
     "text": [
      "3757/3757 - 1s - loss: 1.0213 - categorical_accuracy: 0.5857 - 820ms/epoch - 218us/step\n"
     ]
    },
    {
     "name": "stderr",
     "output_type": "stream",
     "text": [
      "[I 2023-11-03 07:32:34,477] Trial 3 finished with value: 0.5857332944869995 and parameters: {'nlayers': 2, 'nhidden_l0': 38, 'nhidden_l1': 117, 'learning_rate': 0.00023340342926496938, 'bsize': 32}. Best is trial 3 with value: 0.5857332944869995.\n"
     ]
    },
    {
     "name": "stdout",
     "output_type": "stream",
     "text": [
      "3757/3757 - 1s - loss: 1.1043 - categorical_accuracy: 0.5457 - 813ms/epoch - 217us/step\n"
     ]
    },
    {
     "name": "stderr",
     "output_type": "stream",
     "text": [
      "[I 2023-11-03 07:35:34,594] Trial 4 finished with value: 0.5457366108894348 and parameters: {'nlayers': 2, 'nhidden_l0': 22, 'nhidden_l1': 185, 'learning_rate': 0.00016010979717482802, 'bsize': 64}. Best is trial 3 with value: 0.5857332944869995.\n"
     ]
    },
    {
     "name": "stdout",
     "output_type": "stream",
     "text": [
      "3757/3757 - 1s - loss: 1.0360 - categorical_accuracy: 0.5798 - 857ms/epoch - 228us/step\n"
     ]
    },
    {
     "name": "stderr",
     "output_type": "stream",
     "text": [
      "[I 2023-11-03 07:37:38,185] Trial 5 finished with value: 0.579768717288971 and parameters: {'nlayers': 2, 'nhidden_l0': 39, 'nhidden_l1': 204, 'learning_rate': 0.00022745547846333964, 'bsize': 128}. Best is trial 3 with value: 0.5857332944869995.\n"
     ]
    },
    {
     "name": "stdout",
     "output_type": "stream",
     "text": [
      "3757/3757 - 1s - loss: 1.0217 - categorical_accuracy: 0.5873 - 861ms/epoch - 229us/step\n"
     ]
    },
    {
     "name": "stderr",
     "output_type": "stream",
     "text": [
      "[I 2023-11-03 07:39:38,267] Trial 6 finished with value: 0.5872556567192078 and parameters: {'nlayers': 3, 'nhidden_l0': 84, 'nhidden_l1': 15, 'nhidden_l2': 105, 'learning_rate': 0.00013896853898476147, 'bsize': 128}. Best is trial 6 with value: 0.5872556567192078.\n"
     ]
    },
    {
     "name": "stdout",
     "output_type": "stream",
     "text": [
      "3757/3757 - 1s - loss: 1.1163 - categorical_accuracy: 0.5592 - 815ms/epoch - 217us/step\n"
     ]
    },
    {
     "name": "stderr",
     "output_type": "stream",
     "text": [
      "[I 2023-11-03 07:44:27,148] Trial 7 finished with value: 0.5592213869094849 and parameters: {'nlayers': 1, 'nhidden_l0': 107, 'learning_rate': 0.0002540987906022447, 'bsize': 32}. Best is trial 6 with value: 0.5872556567192078.\n"
     ]
    },
    {
     "name": "stdout",
     "output_type": "stream",
     "text": [
      "3757/3757 - 1s - loss: 1.1837 - categorical_accuracy: 0.5141 - 811ms/epoch - 216us/step\n"
     ]
    },
    {
     "name": "stderr",
     "output_type": "stream",
     "text": [
      "[I 2023-11-03 07:47:06,916] Trial 8 finished with value: 0.5140836834907532 and parameters: {'nlayers': 1, 'nhidden_l0': 90, 'learning_rate': 0.00011917150724067958, 'bsize': 64}. Best is trial 6 with value: 0.5872556567192078.\n"
     ]
    },
    {
     "name": "stdout",
     "output_type": "stream",
     "text": [
      "3757/3757 - 1s - loss: 1.2572 - categorical_accuracy: 0.4795 - 770ms/epoch - 205us/step\n"
     ]
    },
    {
     "name": "stderr",
     "output_type": "stream",
     "text": [
      "[I 2023-11-03 07:51:19,484] Trial 9 finished with value: 0.47945261001586914 and parameters: {'nlayers': 1, 'nhidden_l0': 21, 'learning_rate': 0.0002223949755953682, 'bsize': 32}. Best is trial 6 with value: 0.5872556567192078.\n"
     ]
    },
    {
     "name": "stdout",
     "output_type": "stream",
     "text": [
      "3757/3757 - 1s - loss: 1.0944 - categorical_accuracy: 0.5498 - 816ms/epoch - 217us/step\n"
     ]
    },
    {
     "name": "stderr",
     "output_type": "stream",
     "text": [
      "[I 2023-11-03 07:56:35,516] Trial 10 finished with value: 0.549771249294281 and parameters: {'nlayers': 2, 'nhidden_l0': 23, 'nhidden_l1': 248, 'learning_rate': 0.00010935140027694214, 'bsize': 32}. Best is trial 6 with value: 0.5872556567192078.\n"
     ]
    },
    {
     "name": "stdout",
     "output_type": "stream",
     "text": [
      "3757/3757 - 1s - loss: 0.9393 - categorical_accuracy: 0.6285 - 1s/epoch - 266us/step\n"
     ]
    },
    {
     "name": "stderr",
     "output_type": "stream",
     "text": [
      "[I 2023-11-03 07:59:02,924] Trial 11 finished with value: 0.6284834742546082 and parameters: {'nlayers': 3, 'nhidden_l0': 256, 'nhidden_l1': 11, 'nhidden_l2': 120, 'learning_rate': 0.00018147206355438567, 'bsize': 128}. Best is trial 11 with value: 0.6284834742546082.\n"
     ]
    },
    {
     "name": "stdout",
     "output_type": "stream",
     "text": [
      "3757/3757 - 1s - loss: 0.9382 - categorical_accuracy: 0.6275 - 992ms/epoch - 264us/step\n"
     ]
    },
    {
     "name": "stderr",
     "output_type": "stream",
     "text": [
      "[I 2023-11-03 08:01:30,987] Trial 12 finished with value: 0.6275101900100708 and parameters: {'nlayers': 3, 'nhidden_l0': 236, 'nhidden_l1': 10, 'nhidden_l2': 136, 'learning_rate': 0.00018326549896650806, 'bsize': 128}. Best is trial 11 with value: 0.6284834742546082.\n"
     ]
    },
    {
     "name": "stdout",
     "output_type": "stream",
     "text": [
      "3757/3757 - 1s - loss: 0.9360 - categorical_accuracy: 0.6298 - 995ms/epoch - 265us/step\n"
     ]
    },
    {
     "name": "stderr",
     "output_type": "stream",
     "text": [
      "[I 2023-11-03 08:04:01,853] Trial 13 finished with value: 0.6298477649688721 and parameters: {'nlayers': 3, 'nhidden_l0': 252, 'nhidden_l1': 8, 'nhidden_l2': 157, 'learning_rate': 0.00018846971115651093, 'bsize': 128}. Best is trial 13 with value: 0.6298477649688721.\n"
     ]
    },
    {
     "name": "stdout",
     "output_type": "stream",
     "text": [
      "3757/3757 - 1s - loss: 0.9272 - categorical_accuracy: 0.6343 - 991ms/epoch - 264us/step\n"
     ]
    },
    {
     "name": "stderr",
     "output_type": "stream",
     "text": [
      "[I 2023-11-03 08:06:32,076] Trial 14 finished with value: 0.6343066096305847 and parameters: {'nlayers': 3, 'nhidden_l0': 228, 'nhidden_l1': 8, 'nhidden_l2': 255, 'learning_rate': 0.00019005205250409996, 'bsize': 128}. Best is trial 14 with value: 0.6343066096305847.\n"
     ]
    },
    {
     "name": "stdout",
     "output_type": "stream",
     "text": [
      "3757/3757 - 1s - loss: 0.9276 - categorical_accuracy: 0.6329 - 988ms/epoch - 263us/step\n"
     ]
    },
    {
     "name": "stderr",
     "output_type": "stream",
     "text": [
      "[I 2023-11-03 08:09:07,144] Trial 15 finished with value: 0.6328508257865906 and parameters: {'nlayers': 3, 'nhidden_l0': 172, 'nhidden_l1': 24, 'nhidden_l2': 231, 'learning_rate': 0.0002854481525497479, 'bsize': 128}. Best is trial 14 with value: 0.6343066096305847.\n"
     ]
    },
    {
     "name": "stdout",
     "output_type": "stream",
     "text": [
      "3757/3757 - 1s - loss: 0.9255 - categorical_accuracy: 0.6351 - 974ms/epoch - 259us/step\n"
     ]
    },
    {
     "name": "stderr",
     "output_type": "stream",
     "text": [
      "[I 2023-11-03 08:11:46,491] Trial 16 finished with value: 0.635113537311554 and parameters: {'nlayers': 3, 'nhidden_l0': 154, 'nhidden_l1': 24, 'nhidden_l2': 243, 'learning_rate': 0.0002863441027297299, 'bsize': 128}. Best is trial 16 with value: 0.635113537311554.\n"
     ]
    },
    {
     "name": "stdout",
     "output_type": "stream",
     "text": [
      "3757/3757 - 1s - loss: 0.9477 - categorical_accuracy: 0.6253 - 879ms/epoch - 234us/step\n"
     ]
    },
    {
     "name": "stderr",
     "output_type": "stream",
     "text": [
      "[I 2023-11-03 08:15:25,098] Trial 17 finished with value: 0.625305712223053 and parameters: {'nlayers': 3, 'nhidden_l0': 142, 'nhidden_l1': 27, 'nhidden_l2': 22, 'learning_rate': 0.00029934031941985124, 'bsize': 64}. Best is trial 16 with value: 0.635113537311554.\n"
     ]
    },
    {
     "name": "stdout",
     "output_type": "stream",
     "text": [
      "3757/3757 - 1s - loss: 0.9397 - categorical_accuracy: 0.6281 - 1s/epoch - 270us/step\n"
     ]
    },
    {
     "name": "stderr",
     "output_type": "stream",
     "text": [
      "[I 2023-11-03 08:18:31,838] Trial 18 finished with value: 0.6280925273895264 and parameters: {'nlayers': 3, 'nhidden_l0': 155, 'nhidden_l1': 47, 'nhidden_l2': 256, 'learning_rate': 0.00020595804125667717, 'bsize': 128}. Best is trial 16 with value: 0.635113537311554.\n"
     ]
    },
    {
     "name": "stdout",
     "output_type": "stream",
     "text": [
      "3757/3757 - 1s - loss: 1.0288 - categorical_accuracy: 0.5883 - 825ms/epoch - 220us/step\n"
     ]
    },
    {
     "name": "stderr",
     "output_type": "stream",
     "text": [
      "[I 2023-11-03 08:20:13,389] Trial 19 finished with value: 0.5883454084396362 and parameters: {'nlayers': 2, 'nhidden_l0': 71, 'nhidden_l1': 17, 'learning_rate': 0.0002574571570239548, 'bsize': 128}. Best is trial 16 with value: 0.635113537311554.\n"
     ]
    },
    {
     "name": "stdout",
     "output_type": "stream",
     "text": [
      "3757/3757 - 1s - loss: 0.9563 - categorical_accuracy: 0.6220 - 904ms/epoch - 241us/step\n"
     ]
    },
    {
     "name": "stderr",
     "output_type": "stream",
     "text": [
      "[I 2023-11-03 08:23:34,616] Trial 20 finished with value: 0.6219948530197144 and parameters: {'nlayers': 3, 'nhidden_l0': 128, 'nhidden_l1': 8, 'nhidden_l2': 57, 'learning_rate': 0.00020430435602019023, 'bsize': 64}. Best is trial 16 with value: 0.635113537311554.\n"
     ]
    },
    {
     "name": "stdout",
     "output_type": "stream",
     "text": [
      "3757/3757 - 1s - loss: 0.9644 - categorical_accuracy: 0.6168 - 1s/epoch - 297us/step\n"
     ]
    },
    {
     "name": "stderr",
     "output_type": "stream",
     "text": [
      "[I 2023-11-03 08:26:18,045] Trial 21 finished with value: 0.6168039441108704 and parameters: {'nlayers': 3, 'nhidden_l0': 180, 'nhidden_l1': 43, 'nhidden_l2': 64, 'learning_rate': 0.00016466746342595515, 'bsize': 128}. Best is trial 16 with value: 0.635113537311554.\n"
     ]
    },
    {
     "name": "stdout",
     "output_type": "stream",
     "text": [
      "3757/3757 - 1s - loss: 0.9292 - categorical_accuracy: 0.6313 - 991ms/epoch - 264us/step\n"
     ]
    },
    {
     "name": "stderr",
     "output_type": "stream",
     "text": [
      "[I 2023-11-03 08:29:06,049] Trial 22 finished with value: 0.6312952041625977 and parameters: {'nlayers': 3, 'nhidden_l0': 170, 'nhidden_l1': 21, 'nhidden_l2': 254, 'learning_rate': 0.00028820287926691784, 'bsize': 128}. Best is trial 16 with value: 0.635113537311554.\n"
     ]
    },
    {
     "name": "stdout",
     "output_type": "stream",
     "text": [
      "3757/3757 - 1s - loss: 0.9218 - categorical_accuracy: 0.6376 - 1s/epoch - 268us/step\n"
     ]
    },
    {
     "name": "stderr",
     "output_type": "stream",
     "text": [
      "[I 2023-11-03 08:32:24,792] Trial 23 finished with value: 0.6375842094421387 and parameters: {'nlayers': 3, 'nhidden_l0': 191, 'nhidden_l1': 30, 'nhidden_l2': 235, 'learning_rate': 0.00027187649873793024, 'bsize': 128}. Best is trial 23 with value: 0.6375842094421387.\n"
     ]
    },
    {
     "name": "stdout",
     "output_type": "stream",
     "text": [
      "3757/3757 - 1s - loss: 0.9829 - categorical_accuracy: 0.6097 - 879ms/epoch - 234us/step\n"
     ]
    },
    {
     "name": "stderr",
     "output_type": "stream",
     "text": [
      "[I 2023-11-03 08:34:13,949] Trial 24 finished with value: 0.6096913814544678 and parameters: {'nlayers': 2, 'nhidden_l0': 116, 'nhidden_l1': 32, 'learning_rate': 0.0002681871285083149, 'bsize': 128}. Best is trial 23 with value: 0.6375842094421387.\n"
     ]
    },
    {
     "name": "stdout",
     "output_type": "stream",
     "text": [
      "3757/3757 - 1s - loss: 0.9652 - categorical_accuracy: 0.6170 - 952ms/epoch - 253us/step\n"
     ]
    },
    {
     "name": "stderr",
     "output_type": "stream",
     "text": [
      "[I 2023-11-03 08:36:24,442] Trial 25 finished with value: 0.6169869303703308 and parameters: {'nlayers': 3, 'nhidden_l0': 201, 'nhidden_l1': 14, 'nhidden_l2': 8, 'learning_rate': 0.00024335131383543718, 'bsize': 128}. Best is trial 23 with value: 0.6375842094421387.\n"
     ]
    },
    {
     "name": "stdout",
     "output_type": "stream",
     "text": [
      "3757/3757 - 1s - loss: 0.9146 - categorical_accuracy: 0.6397 - 999ms/epoch - 266us/step\n"
     ]
    },
    {
     "name": "stderr",
     "output_type": "stream",
     "text": [
      "[I 2023-11-03 08:39:29,203] Trial 26 finished with value: 0.6396722197532654 and parameters: {'nlayers': 3, 'nhidden_l0': 212, 'nhidden_l1': 40, 'nhidden_l2': 167, 'learning_rate': 0.00026892676045040984, 'bsize': 128}. Best is trial 26 with value: 0.6396722197532654.\n"
     ]
    },
    {
     "name": "stdout",
     "output_type": "stream",
     "text": [
      "3757/3757 - 1s - loss: 0.9763 - categorical_accuracy: 0.6136 - 928ms/epoch - 247us/step\n"
     ]
    },
    {
     "name": "stderr",
     "output_type": "stream",
     "text": [
      "[I 2023-11-03 08:41:46,163] Trial 27 finished with value: 0.6136012077331543 and parameters: {'nlayers': 2, 'nhidden_l0': 135, 'nhidden_l1': 39, 'learning_rate': 0.0002718268460212474, 'bsize': 128}. Best is trial 26 with value: 0.6396722197532654.\n"
     ]
    },
    {
     "name": "stdout",
     "output_type": "stream",
     "text": [
      "3757/3757 - 1s - loss: 0.9290 - categorical_accuracy: 0.6339 - 1s/epoch - 282us/step\n"
     ]
    },
    {
     "name": "stderr",
     "output_type": "stream",
     "text": [
      "[I 2023-11-03 08:45:01,390] Trial 28 finished with value: 0.6339239478111267 and parameters: {'nlayers': 3, 'nhidden_l0': 180, 'nhidden_l1': 59, 'nhidden_l2': 148, 'learning_rate': 0.00026991147829656057, 'bsize': 128}. Best is trial 26 with value: 0.6396722197532654.\n"
     ]
    },
    {
     "name": "stdout",
     "output_type": "stream",
     "text": [
      "3757/3757 - 1s - loss: 0.9446 - categorical_accuracy: 0.6226 - 929ms/epoch - 247us/step\n"
     ]
    },
    {
     "name": "stderr",
     "output_type": "stream",
     "text": [
      "[I 2023-11-03 08:51:24,855] Trial 29 finished with value: 0.6225605010986328 and parameters: {'nlayers': 3, 'nhidden_l0': 64, 'nhidden_l1': 57, 'nhidden_l2': 95, 'learning_rate': 0.00029627412614332063, 'bsize': 32}. Best is trial 26 with value: 0.6396722197532654.\n"
     ]
    },
    {
     "name": "stdout",
     "output_type": "stream",
     "text": [
      "3757/3757 - 1s - loss: 0.9778 - categorical_accuracy: 0.6124 - 866ms/epoch - 231us/step\n"
     ]
    },
    {
     "name": "stderr",
     "output_type": "stream",
     "text": [
      "[I 2023-11-03 08:54:28,943] Trial 30 finished with value: 0.6124032735824585 and parameters: {'nlayers': 2, 'nhidden_l0': 105, 'nhidden_l1': 32, 'learning_rate': 0.00024523663472319265, 'bsize': 64}. Best is trial 26 with value: 0.6396722197532654.\n"
     ]
    },
    {
     "name": "stdout",
     "output_type": "stream",
     "text": [
      "3757/3757 - 1s - loss: 0.9350 - categorical_accuracy: 0.6303 - 1s/epoch - 269us/step\n"
     ]
    },
    {
     "name": "stderr",
     "output_type": "stream",
     "text": [
      "[I 2023-11-03 08:57:27,478] Trial 31 finished with value: 0.6302970051765442 and parameters: {'nlayers': 3, 'nhidden_l0': 201, 'nhidden_l1': 21, 'nhidden_l2': 188, 'learning_rate': 0.00026668150993942717, 'bsize': 128}. Best is trial 26 with value: 0.6396722197532654.\n"
     ]
    },
    {
     "name": "stdout",
     "output_type": "stream",
     "text": [
      "3757/3757 - 1s - loss: 0.9259 - categorical_accuracy: 0.6341 - 1s/epoch - 272us/step\n"
     ]
    },
    {
     "name": "stderr",
     "output_type": "stream",
     "text": [
      "[I 2023-11-03 09:00:51,845] Trial 32 finished with value: 0.6341069936752319 and parameters: {'nlayers': 3, 'nhidden_l0': 214, 'nhidden_l1': 18, 'nhidden_l2': 249, 'learning_rate': 0.00023850353676705037, 'bsize': 128}. Best is trial 26 with value: 0.6396722197532654.\n"
     ]
    },
    {
     "name": "stdout",
     "output_type": "stream",
     "text": [
      "3757/3757 - 1s - loss: 0.9514 - categorical_accuracy: 0.6209 - 946ms/epoch - 252us/step\n"
     ]
    },
    {
     "name": "stderr",
     "output_type": "stream",
     "text": [
      "[I 2023-11-03 09:03:31,165] Trial 33 finished with value: 0.6208717823028564 and parameters: {'nlayers': 3, 'nhidden_l0': 143, 'nhidden_l1': 12, 'nhidden_l2': 178, 'learning_rate': 0.00022313254764708663, 'bsize': 128}. Best is trial 26 with value: 0.6396722197532654.\n"
     ]
    },
    {
     "name": "stdout",
     "output_type": "stream",
     "text": [
      "3757/3757 - 1s - loss: 0.9201 - categorical_accuracy: 0.6367 - 1s/epoch - 269us/step\n"
     ]
    },
    {
     "name": "stderr",
     "output_type": "stream",
     "text": [
      "[I 2023-11-03 09:06:42,239] Trial 34 finished with value: 0.6367107629776001 and parameters: {'nlayers': 3, 'nhidden_l0': 224, 'nhidden_l1': 17, 'nhidden_l2': 179, 'learning_rate': 0.00027643753548094294, 'bsize': 128}. Best is trial 26 with value: 0.6396722197532654.\n"
     ]
    },
    {
     "name": "stdout",
     "output_type": "stream",
     "text": [
      "3757/3757 - 1s - loss: 0.9295 - categorical_accuracy: 0.6324 - 989ms/epoch - 263us/step\n"
     ]
    },
    {
     "name": "stderr",
     "output_type": "stream",
     "text": [
      "[I 2023-11-03 09:09:53,503] Trial 35 finished with value: 0.6323516964912415 and parameters: {'nlayers': 3, 'nhidden_l0': 161, 'nhidden_l1': 29, 'nhidden_l2': 166, 'learning_rate': 0.00027993372011527666, 'bsize': 128}. Best is trial 26 with value: 0.6396722197532654.\n"
     ]
    },
    {
     "name": "stdout",
     "output_type": "stream",
     "text": [
      "3757/3757 - 1s - loss: 0.9755 - categorical_accuracy: 0.6164 - 989ms/epoch - 263us/step\n"
     ]
    },
    {
     "name": "stderr",
     "output_type": "stream",
     "text": [
      "[I 2023-11-03 09:12:33,771] Trial 36 finished with value: 0.6164129376411438 and parameters: {'nlayers': 2, 'nhidden_l0': 252, 'nhidden_l1': 23, 'learning_rate': 0.00025916565596328706, 'bsize': 128}. Best is trial 26 with value: 0.6396722197532654.\n"
     ]
    },
    {
     "name": "stdout",
     "output_type": "stream",
     "text": [
      "3757/3757 - 1s - loss: 0.9349 - categorical_accuracy: 0.6332 - 1s/epoch - 275us/step\n"
     ]
    },
    {
     "name": "stderr",
     "output_type": "stream",
     "text": [
      "[I 2023-11-03 09:16:23,105] Trial 37 finished with value: 0.6332252025604248 and parameters: {'nlayers': 3, 'nhidden_l0': 196, 'nhidden_l1': 73, 'nhidden_l2': 96, 'learning_rate': 0.0002993423610613718, 'bsize': 128}. Best is trial 26 with value: 0.6396722197532654.\n"
     ]
    },
    {
     "name": "stdout",
     "output_type": "stream",
     "text": [
      "3757/3757 - 1s - loss: 0.9229 - categorical_accuracy: 0.6365 - 971ms/epoch - 258us/step\n"
     ]
    },
    {
     "name": "stderr",
     "output_type": "stream",
     "text": [
      "[I 2023-11-03 09:23:16,320] Trial 38 finished with value: 0.6365194320678711 and parameters: {'nlayers': 3, 'nhidden_l0': 129, 'nhidden_l1': 36, 'nhidden_l2': 194, 'learning_rate': 0.0002518607304828508, 'bsize': 32}. Best is trial 26 with value: 0.6396722197532654.\n"
     ]
    },
    {
     "name": "stdout",
     "output_type": "stream",
     "text": [
      "3757/3757 - 1s - loss: 0.9579 - categorical_accuracy: 0.6238 - 913ms/epoch - 243us/step\n"
     ]
    },
    {
     "name": "stderr",
     "output_type": "stream",
     "text": [
      "[I 2023-11-03 09:28:39,953] Trial 39 finished with value: 0.6238083243370056 and parameters: {'nlayers': 2, 'nhidden_l0': 120, 'nhidden_l1': 35, 'learning_rate': 0.00025367809359018597, 'bsize': 32}. Best is trial 26 with value: 0.6396722197532654.\n"
     ]
    },
    {
     "name": "stdout",
     "output_type": "stream",
     "text": [
      "3757/3757 - 1s - loss: 0.9391 - categorical_accuracy: 0.6259 - 938ms/epoch - 250us/step\n"
     ]
    },
    {
     "name": "stderr",
     "output_type": "stream",
     "text": [
      "[I 2023-11-03 09:35:20,848] Trial 40 finished with value: 0.6259129643440247 and parameters: {'nlayers': 3, 'nhidden_l0': 97, 'nhidden_l1': 37, 'nhidden_l2': 177, 'learning_rate': 0.000228575373251494, 'bsize': 32}. Best is trial 26 with value: 0.6396722197532654.\n"
     ]
    },
    {
     "name": "stdout",
     "output_type": "stream",
     "text": [
      "3757/3757 - 1s - loss: 0.9661 - categorical_accuracy: 0.6194 - 909ms/epoch - 242us/step\n"
     ]
    },
    {
     "name": "stderr",
     "output_type": "stream",
     "text": [
      "[I 2023-11-03 09:40:25,537] Trial 41 finished with value: 0.6193661093711853 and parameters: {'nlayers': 2, 'nhidden_l0': 128, 'nhidden_l1': 28, 'learning_rate': 0.00024254458998685524, 'bsize': 32}. Best is trial 26 with value: 0.6396722197532654.\n"
     ]
    },
    {
     "name": "stdout",
     "output_type": "stream",
     "text": [
      "3757/3757 - 1s - loss: 0.9228 - categorical_accuracy: 0.6364 - 957ms/epoch - 255us/step\n"
     ]
    },
    {
     "name": "stderr",
     "output_type": "stream",
     "text": [
      "[I 2023-11-03 09:47:14,062] Trial 42 finished with value: 0.6363613605499268 and parameters: {'nlayers': 3, 'nhidden_l0': 155, 'nhidden_l1': 19, 'nhidden_l2': 189, 'learning_rate': 0.00028170916328521244, 'bsize': 32}. Best is trial 26 with value: 0.6396722197532654.\n"
     ]
    },
    {
     "name": "stdout",
     "output_type": "stream",
     "text": [
      "3757/3757 - 1s - loss: 0.9188 - categorical_accuracy: 0.6387 - 994ms/epoch - 265us/step\n"
     ]
    },
    {
     "name": "stderr",
     "output_type": "stream",
     "text": [
      "[I 2023-11-03 09:54:14,648] Trial 43 finished with value: 0.6386823058128357 and parameters: {'nlayers': 3, 'nhidden_l0': 213, 'nhidden_l1': 19, 'nhidden_l2': 127, 'learning_rate': 0.00027641823129673595, 'bsize': 32}. Best is trial 26 with value: 0.6396722197532654.\n"
     ]
    },
    {
     "name": "stdout",
     "output_type": "stream",
     "text": [
      "3757/3757 - 1s - loss: 0.9200 - categorical_accuracy: 0.6389 - 1s/epoch - 291us/step\n"
     ]
    },
    {
     "name": "stderr",
     "output_type": "stream",
     "text": [
      "[I 2023-11-03 10:01:13,249] Trial 44 finished with value: 0.6388986110687256 and parameters: {'nlayers': 3, 'nhidden_l0': 209, 'nhidden_l1': 17, 'nhidden_l2': 129, 'learning_rate': 0.0002605845976699137, 'bsize': 32}. Best is trial 26 with value: 0.6396722197532654.\n"
     ]
    },
    {
     "name": "stdout",
     "output_type": "stream",
     "text": [
      "3757/3757 - 1s - loss: 0.9107 - categorical_accuracy: 0.6408 - 998ms/epoch - 266us/step\n"
     ]
    },
    {
     "name": "stderr",
     "output_type": "stream",
     "text": [
      "[I 2023-11-03 10:08:13,435] Trial 45 finished with value: 0.6408368945121765 and parameters: {'nlayers': 3, 'nhidden_l0': 214, 'nhidden_l1': 16, 'nhidden_l2': 125, 'learning_rate': 0.0002723043751349653, 'bsize': 32}. Best is trial 45 with value: 0.6408368945121765.\n"
     ]
    },
    {
     "name": "stdout",
     "output_type": "stream",
     "text": [
      "3757/3757 - 1s - loss: 0.9028 - categorical_accuracy: 0.6446 - 1s/epoch - 266us/step\n"
     ]
    },
    {
     "name": "stderr",
     "output_type": "stream",
     "text": [
      "[I 2023-11-03 10:15:06,762] Trial 46 finished with value: 0.6445720195770264 and parameters: {'nlayers': 3, 'nhidden_l0': 201, 'nhidden_l1': 14, 'nhidden_l2': 124, 'learning_rate': 0.0002644115415668436, 'bsize': 32}. Best is trial 46 with value: 0.6445720195770264.\n"
     ]
    },
    {
     "name": "stdout",
     "output_type": "stream",
     "text": [
      "3757/3757 - 1s - loss: 1.0896 - categorical_accuracy: 0.5739 - 925ms/epoch - 246us/step\n"
     ]
    },
    {
     "name": "stderr",
     "output_type": "stream",
     "text": [
      "[I 2023-11-03 10:20:52,631] Trial 47 finished with value: 0.5738707184791565 and parameters: {'nlayers': 1, 'nhidden_l0': 222, 'learning_rate': 0.00023145994100466462, 'bsize': 32}. Best is trial 46 with value: 0.6445720195770264.\n"
     ]
    },
    {
     "name": "stdout",
     "output_type": "stream",
     "text": [
      "3757/3757 - 1s - loss: 0.9061 - categorical_accuracy: 0.6466 - 1s/epoch - 278us/step\n"
     ]
    },
    {
     "name": "stderr",
     "output_type": "stream",
     "text": [
      "[I 2023-11-03 10:28:02,519] Trial 48 finished with value: 0.6465518474578857 and parameters: {'nlayers': 3, 'nhidden_l0': 246, 'nhidden_l1': 14, 'nhidden_l2': 125, 'learning_rate': 0.0002518045355374134, 'bsize': 32}. Best is trial 48 with value: 0.6465518474578857.\n"
     ]
    },
    {
     "name": "stdout",
     "output_type": "stream",
     "text": [
      "3757/3757 - 1s - loss: 0.9084 - categorical_accuracy: 0.6441 - 995ms/epoch - 265us/step\n"
     ]
    },
    {
     "name": "stderr",
     "output_type": "stream",
     "text": [
      "[I 2023-11-03 10:35:17,577] Trial 49 finished with value: 0.6441227793693542 and parameters: {'nlayers': 3, 'nhidden_l0': 228, 'nhidden_l1': 14, 'nhidden_l2': 104, 'learning_rate': 0.00026048575367957103, 'bsize': 32}. Best is trial 48 with value: 0.6465518474578857.\n"
     ]
    },
    {
     "name": "stdout",
     "output_type": "stream",
     "text": [
      "3757/3757 - 1s - loss: 0.9169 - categorical_accuracy: 0.6389 - 1s/epoch - 274us/step\n"
     ]
    },
    {
     "name": "stderr",
     "output_type": "stream",
     "text": [
      "[I 2023-11-03 10:42:06,177] Trial 50 finished with value: 0.6389152407646179 and parameters: {'nlayers': 3, 'nhidden_l0': 243, 'nhidden_l1': 13, 'nhidden_l2': 96, 'learning_rate': 0.00021594626953928036, 'bsize': 32}. Best is trial 48 with value: 0.6465518474578857.\n"
     ]
    },
    {
     "name": "stdout",
     "output_type": "stream",
     "text": [
      "3757/3757 - 1s - loss: 0.9193 - categorical_accuracy: 0.6378 - 947ms/epoch - 252us/step\n"
     ]
    },
    {
     "name": "stderr",
     "output_type": "stream",
     "text": [
      "[I 2023-11-03 10:48:49,628] Trial 51 finished with value: 0.6378005146980286 and parameters: {'nlayers': 3, 'nhidden_l0': 178, 'nhidden_l1': 10, 'nhidden_l2': 107, 'learning_rate': 0.00023883917025148635, 'bsize': 32}. Best is trial 48 with value: 0.6465518474578857.\n"
     ]
    },
    {
     "name": "stdout",
     "output_type": "stream",
     "text": [
      "Study statistics: \n",
      "  Number of finished trials:  52\n",
      "  Number of trials:  52\n",
      "Best trial:\n",
      "  Value:  0.6465518474578857\n",
      "  Params: \n",
      "    nlayers: 3\n",
      "    nhidden_l0: 246\n",
      "    nhidden_l1: 14\n",
      "    nhidden_l2: 125\n",
      "    learning_rate: 0.0002518045355374134\n",
      "    bsize: 32\n"
     ]
    }
   ],
   "source": [
    "import util.util\n",
    "import util.data\n",
    "#from . import util as dsutil\n",
    "\n",
    "\n",
    "'''\n",
    "# Load data \n",
    "X_test = np.ascontiguousarray( np.load(\"{}/x_test_{}const.npy\".format(datapath, nconst)) )\n",
    "Y_test = np.load( \"{}/y_test_{}const.npy\".format(datapath, nconst), allow_pickle=True )\n",
    "'''\n",
    "\n",
    "\n",
    "\n",
    "util.util.device_info()\n",
    "outdir = \"./optuna\"\n",
    "\n",
    "\n",
    "kfolds = 5\n",
    "val_kfold = 4\n",
    "\n",
    "print(\"kfold numbet of folds:\", kfolds )\n",
    "print(\"val fold num:\", val_kfold )\n",
    "\n",
    "train_kfolds = [kfold for kfold in range(kfolds) if kfold != val_kfold]\n",
    "\n",
    "fpath        =  f'./data_kfold/jets_{NCONSTIT}constituents_ptetaphi_nonorm'\n",
    "fnames_train = [f'jet_images_c{NCONSTIT}_minpt2.0_ptetaphi_nonorm_{train_kfold}' for train_kfold in train_kfolds]\n",
    "fname_val    =  f'jet_images_c{NCONSTIT}_minpt2.0_ptetaphi_nonorm_{val_kfold}'\n",
    "\n",
    "\n",
    "data = util.data.Data.load_kfolds(fpath, fnames_train, fname_val)\n",
    "print(data.train_data.shape)\n",
    "\n",
    "X_train = data.train_data\n",
    "X_val = data.test_data\n",
    "X_test = data.test_data\n",
    "\n",
    "Y_train = data.train_target\n",
    "Y_val = data.test_target\n",
    "Y_test = data.test_target\n",
    "\n",
    "# normalization\n",
    "interquantile_range_32 = [120, 0.27, 0.27]\n",
    "interquantile_range_16 = [166, 0.24, 0.24]\n",
    "interquantile_range_8  = [219, 0.20, 0.20]\n",
    "    \n",
    "if  NCONSTIT == 8:\n",
    "    X_train     = X_train / interquantile_range_8\n",
    "    X_val       = X_val   / interquantile_range_8\n",
    "    X_test      = X_test  / interquantile_range_8\n",
    "elif NCONSTIT == 16:\n",
    "    X_train     = X_train / interquantile_range_16\n",
    "    X_val       = X_val   / interquantile_range_16\n",
    "    X_test      = X_test  / interquantile_range_16\n",
    "elif NCONSTIT == 32:\n",
    "    X_train     = X_train / interquantile_range_32\n",
    "    X_val       = X_val   / interquantile_range_32\n",
    "    X_test      = X_test  / interquantile_range_32\n",
    "    \n",
    "    \n",
    "# Flatten data for MLP input\n",
    "NINPUT = NCONSTIT * NFEAT\n",
    "X_train = X_train.reshape(-1, NINPUT)\n",
    "X_val  = X_val.reshape(-1, NINPUT)\n",
    "X_test  = X_test.reshape(-1, NINPUT)\n",
    "    \n",
    "    \n",
    "print(X_train.shape, X_test.shape, Y_train.shape, Y_test.shape)\n",
    "\n",
    "\n",
    "\n",
    "# Set Optuna\n",
    "study = optuna.create_study(\n",
    "        study_name=\"mlp_study\",\n",
    "        sampler=optuna.samplers.TPESampler(),\n",
    "        pruner=optuna.pruners.HyperbandPruner(),\n",
    "        direction=\"maximize\",\n",
    "        storage=\"sqlite:///optuna_mlp_{}_constit.db\".format(NCONSTIT),\n",
    "        load_if_exists=True,\n",
    "    )\n",
    "        \n",
    "    \n",
    "    \n",
    "# Optimize\n",
    "#study.optimize(objective(data), n_trials=15, gc_after_trial=True)\n",
    "study.optimize(objective, n_trials=NTRIALS, gc_after_trial=True)\n",
    "\n",
    "\n",
    "# Results\n",
    "#trials = study.get_trials(deepcopy=False, states=[TrialState.PRUNED])\n",
    "trials = study.get_trials(deepcopy=False)\n",
    "print(\"Study statistics: \")\n",
    "print(\"  Number of finished trials: \", len(study.trials))\n",
    "print(\"  Number of trials: \", len(trials))\n",
    "\n",
    "# \n",
    "print(\"Best trial:\")\n",
    "trial = study.best_trial\n",
    "\n",
    "print(\"  Value: \", trial.value)\n",
    "\n",
    "print(\"  Params: \")\n",
    "for key, value in trial.params.items():\n",
    "    print(\"    {}: {}\".format(key, value))\n",
    "\n",
    "    \n",
    "# reload study and continue optimizing\n",
    "#study = optuna.load_study(study_name=\"example-study\", storage=\"sqlite:///example.db\")\n",
    "#study.optimize(objective, n_trials=30)    \n"
   ]
  },
  {
   "cell_type": "markdown",
   "id": "994675d8-2972-4f78-9022-72fa43566c03",
   "metadata": {
    "jp-MarkdownHeadingCollapsed": true,
    "tags": []
   },
   "source": [
    "## MLP 32:\n",
    "## BEST  Trial 48 finished with value: 0.6465518474578857 and parameters: {'nlayers': 3, 'nhidden_l0': 246, 'nhidden_l1': 14, 'nhidden_l2': 125, 'learning_rate': 0.0002518045355374134, 'bsize': 32}"
   ]
  },
  {
   "cell_type": "markdown",
   "id": "47747664-2732-4751-8e26-2ee340887c4d",
   "metadata": {
    "tags": []
   },
   "source": [
    "## MLP 16 : \n",
    "##  BEST Trial 48 finished with value:0.655561089515686 and parameters: {'bsize': 64, 'nlayers': 3, 'nhidden_l0': 171, 'nhidden_l1': 30, 'nhidden_l2': 153, 'learning_rate': 0.00025664296269595563}."
   ]
  },
  {
   "cell_type": "markdown",
   "id": "bac5fc1a-3b2a-4b52-bedd-17cd402b034c",
   "metadata": {},
   "source": [
    "## MLP 8:\n",
    "## BEST Trial 47 finished with value: 0.6322103142738342 and parameters: {'bsize': 64, 'nlayers': 3, 'nhidden_l0': 152, 'nhidden_l1': 69, 'nhidden_l2': 63, 'learning_rate': 0.00023812077479493001}"
   ]
  },
  {
   "cell_type": "code",
   "execution_count": null,
   "id": "b4b35700-c2a6-4e7b-b28d-ae24f5aed77c",
   "metadata": {},
   "outputs": [],
   "source": []
  }
 ],
 "metadata": {
  "kernelspec": {
   "display_name": "Python 3 (ipykernel)",
   "language": "python",
   "name": "python3"
  },
  "language_info": {
   "codemirror_mode": {
    "name": "ipython",
    "version": 3
   },
   "file_extension": ".py",
   "mimetype": "text/x-python",
   "name": "python",
   "nbconvert_exporter": "python",
   "pygments_lexer": "ipython3",
   "version": "3.8.16"
  }
 },
 "nbformat": 4,
 "nbformat_minor": 5
}
