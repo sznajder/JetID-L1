{
 "cells": [
  {
   "cell_type": "markdown",
   "metadata": {
    "id": "JK0wr2onBn4d"
   },
   "source": [
    "# Quantization aware (QKeras) DeepSet Permutation Invariant NN for B Jet tagging using jet constituents from HLS data implemented by Patrick ( from paper https://arxiv.org/abs/1703.06114 )\n",
    "\n",
    "##   Original code from: https://github.com/bb511/know_dist\n",
    "\n",
    "## Author: Andre Sznajder\n",
    "\n",
    " "
   ]
  },
  {
   "cell_type": "code",
   "execution_count": 1,
   "metadata": {
    "colab": {
     "base_uri": "https://localhost:8080/"
    },
    "executionInfo": {
     "elapsed": 3006,
     "status": "ok",
     "timestamp": 1616956528247,
     "user": {
      "displayName": "Andre Sznajder",
      "photoUrl": "https://lh3.googleusercontent.com/-Bujzmul3q4w/AAAAAAAAAAI/AAAAAAAAA30/Zzdg4zcPB-8/s64/photo.jpg",
      "userId": "12562331206892861623"
     },
     "user_tz": -120
    },
    "id": "WrNOdwasBsHc",
    "outputId": "403bd6fb-ede6-43c8-9cf7-235cccf77806"
   },
   "outputs": [],
   "source": [
    "#!fusermount -u drive\n",
    "#! pip install einops\n",
    "#from google.colab import drive\n",
    "#drive.mount('/content/gdrive', force_remount=True)\n",
    "#data_dir = '/content/gdrive/My Drive/Colab Notebooks/Data/'"
   ]
  },
  {
   "cell_type": "code",
   "execution_count": 2,
   "metadata": {
    "colab": {
     "base_uri": "https://localhost:8080/"
    },
    "executionInfo": {
     "elapsed": 3272,
     "status": "ok",
     "timestamp": 1616956528520,
     "user": {
      "displayName": "Andre Sznajder",
      "photoUrl": "https://lh3.googleusercontent.com/-Bujzmul3q4w/AAAAAAAAAAI/AAAAAAAAA30/Zzdg4zcPB-8/s64/photo.jpg",
      "userId": "12562331206892861623"
     },
     "user_tz": -120
    },
    "id": "MhGGIDIvBu2V",
    "outputId": "20e67e9a-104e-4ce2-ac75-540ae8e1f459"
   },
   "outputs": [
    {
     "name": "stdout",
     "output_type": "stream",
     "text": [
      "TensorFlow 2.8.0\n",
      "[PhysicalDevice(name='/physical_device:CPU:0', device_type='CPU'), PhysicalDevice(name='/physical_device:GPU:0', device_type='GPU')]\n",
      "Number of available GPUs : 1\n"
     ]
    }
   ],
   "source": [
    "import tensorflow as tf\n",
    "print(f\"TensorFlow {tf.__version__}\")\n",
    "print(tf.config.list_physical_devices())\n",
    "gpus = tf.config.list_physical_devices(\"GPU\")\n",
    "if gpus:\n",
    "    print(f\"Number of available GPUs : {len(gpus)}\")\n",
    "    tf.config.set_visible_devices(gpus[0],\"GPU\")\n",
    "    tf.config.experimental.set_memory_growth(gpus[0],True)\n",
    "else:\n",
    "    print(\"No GPU available, using CPU !!!\")    \n",
    "\n",
    "# To disable GPU use\n",
    "tf.config.set_visible_devices([], 'GPU')\n"
   ]
  },
  {
   "cell_type": "markdown",
   "metadata": {},
   "source": [
    "## Load train and test JetID datasets as numpy arrays"
   ]
  },
  {
   "cell_type": "code",
   "execution_count": 3,
   "metadata": {},
   "outputs": [
    {
     "name": "stdout",
     "output_type": "stream",
     "text": [
      "Loaded X_train_val ----> shape: (160000, 16, 6)\n",
      "Loaded X_test      ----> shape: (40000, 16, 6)\n",
      "Loaded Y_train_val ----> shape: (160000, 1)\n",
      "Loaded Y_test      ----> shape: (40000, 1)\n",
      "[[0.]\n",
      " [0.]\n",
      " [0.]\n",
      " ...\n",
      " [0.]\n",
      " [1.]\n",
      " [0.]]\n"
     ]
    }
   ],
   "source": [
    "import numpy as np\n",
    "import h5py\n",
    "import os\n",
    "import awkward as ak\n",
    "\n",
    "#Data PATH\n",
    "PATH = './part1_outputs_btagging/'\n",
    "\n",
    "nconstit = 16\n",
    "\n",
    "X_train_val = ak.from_parquet(PATH+\"X_train_scaled.parquet\")\n",
    "X_test = ak.from_parquet(PATH+\"X_test_scaled.parquet\")\n",
    "Y_train_val = ak.from_parquet(PATH+\"y_train_scaled.parquet\")\n",
    "Y_test = ak.from_parquet(PATH+\"y_test_scaled.parquet\")\n",
    "\n",
    "X_train_val = ak.to_numpy(X_train_val)\n",
    "X_test = ak.to_numpy(X_test)\n",
    "Y_train_val = ak.to_numpy(Y_train_val)\n",
    "Y_test = ak.to_numpy(Y_test)\n",
    "\n",
    "print(\"Loaded X_train_val ----> shape:\", X_train_val.shape)\n",
    "print(\"Loaded X_test      ----> shape:\", X_test.shape)\n",
    "print(\"Loaded Y_train_val ----> shape:\", Y_train_val.shape)\n",
    "print(\"Loaded Y_test      ----> shape:\", Y_test.shape)\n",
    "\n",
    "nfeat = X_train_val.shape[-1]\n",
    "\n",
    "print(Y_test)"
   ]
  },
  {
   "cell_type": "markdown",
   "metadata": {
    "colab": {
     "base_uri": "https://localhost:8080/"
    },
    "executionInfo": {
     "elapsed": 6350,
     "status": "ok",
     "timestamp": 1616956531619,
     "user": {
      "displayName": "Andre Sznajder",
      "photoUrl": "https://lh3.googleusercontent.com/-Bujzmul3q4w/AAAAAAAAAAI/AAAAAAAAA30/Zzdg4zcPB-8/s64/photo.jpg",
      "userId": "12562331206892861623"
     },
     "user_tz": -120
    },
    "id": "aqEAX7zIBn40",
    "outputId": "f71a892c-d086-4df8-9e11-b1116e448764"
   },
   "source": [
    "## Define DeepSet Permutation Invariant Model"
   ]
  },
  {
   "cell_type": "code",
   "execution_count": 4,
   "metadata": {},
   "outputs": [
    {
     "name": "stdout",
     "output_type": "stream",
     "text": [
      "Training with max # of contituents =  16\n",
      "Number of node features =  6\n",
      "Quantization with nbits= 8\n",
      "Quantization of integer part= 0\n",
      "Model: \"model\"\n",
      "_________________________________________________________________\n",
      " Layer (type)                Output Shape              Param #   \n",
      "=================================================================\n",
      " inp (InputLayer)            [(None, 16, 6)]           0         \n",
      "                                                                 \n",
      " qdense_phi1 (QDense)        (None, 16, 32)            224       \n",
      "                                                                 \n",
      " qrelu_phi1 (QActivation)    (None, 16, 32)            0         \n",
      "                                                                 \n",
      " qdense_phi2 (QDense)        (None, 16, 32)            1056      \n",
      "                                                                 \n",
      " qrelu_phi2 (QActivation)    (None, 16, 32)            0         \n",
      "                                                                 \n",
      " qdense_phi3 (QDense)        (None, 16, 32)            1056      \n",
      "                                                                 \n",
      " qrelu_phi3 (QActivation)    (None, 16, 32)            0         \n",
      "                                                                 \n",
      " avgpool (GlobalAveragePooli  (None, 32)               0         \n",
      " ng1D)                                                           \n",
      "                                                                 \n",
      " qdense_rho1 (QDense)        (None, 32)                1056      \n",
      "                                                                 \n",
      " qrelu_rho1 (QActivation)    (None, 32)                0         \n",
      "                                                                 \n",
      " qdense_rho2 (QDense)        (None, 32)                1056      \n",
      "                                                                 \n",
      " qrelu_rho2 (QActivation)    (None, 32)                0         \n",
      "                                                                 \n",
      " qdense_rho3 (QDense)        (None, 1)                 33        \n",
      "                                                                 \n",
      " sigmoid (Activation)        (None, 1)                 0         \n",
      "                                                                 \n",
      "=================================================================\n",
      "Total params: 4,481\n",
      "Trainable params: 4,481\n",
      "Non-trainable params: 0\n",
      "_________________________________________________________________\n"
     ]
    }
   ],
   "source": [
    "# baseline keras model\n",
    "import tensorflow as tf\n",
    "from tensorflow import keras\n",
    "from tensorflow.keras import layers, models\n",
    "from tensorflow.keras.models import Sequential, Model\n",
    "from tensorflow.keras.optimizers import SGD, Adam, Nadam\n",
    "from tensorflow.keras.layers import BatchNormalization, Input, Activation, Dense, Conv1D, Add, RepeatVector\n",
    "from tensorflow.keras.layers import Flatten, Reshape, GlobalAveragePooling1D, Concatenate, UpSampling1D, AveragePooling1D, MaxPooling1D  \n",
    "from tensorflow.keras import utils, regularizers\n",
    "from qkeras import *\n",
    "\n",
    "import tensorflow.keras.layers as KL\n",
    "\n",
    "\n",
    "\n",
    "#########################################################################################################\n",
    "'''\n",
    "# Silence the info from tensorflow in which it brags that it can run on cpu nicely.\n",
    "os.environ[\"TF_CPP_MIN_LOG_LEVEL\"] = \"1\"\n",
    "keras.utils.set_random_seed(123)\n",
    "import absl.logging\n",
    "absl.logging.set_verbosity(absl.logging.ERROR)\n",
    "\n",
    "from util.terminal_colors import tcols\n",
    "from . import util as dsutil\n",
    "\n",
    "tf.keras.backend.set_floatx(\"float64\")\n",
    "\n",
    "util.util.device_info()\n",
    "outdir = util.util.make_output_directory(\"trained_deepsets\", args[\"outdir\"])\n",
    "util.util.save_hyperparameters_file(args, outdir)\n",
    "\n",
    "data = Data.shuffled(**args[\"data_hyperparams\"])\n",
    "'''\n",
    "#########################################################################################################\n",
    "\n",
    "# Quantized bits\n",
    "nbits=8\n",
    "integ=0\n",
    "\n",
    "#qbits = quantized_bits(nbits,integ,alpha=1.0)\n",
    "#qact = 'quantized_relu('+str(nbits)+',0)'\n",
    "\n",
    "# Set QKeras quantizer and activation \n",
    "if nbits == 1:\n",
    "    qbits = 'binary(alpha=1)'\n",
    "elif nbits == 2:\n",
    "    qbits = 'ternary(alpha=1)'\n",
    "else:\n",
    "    qbits = 'quantized_bits({},0,alpha=1)'.format(nbits)\n",
    "\n",
    "qact = 'quantized_relu({},0)'.format(nbits)\n",
    "\n",
    "# Print\n",
    "print(\"Training with max # of contituents = \", nconstit)\n",
    "print(\"Number of node features = \", nfeat)\n",
    "print(\"Quantization with nbits=\",nbits)\n",
    "print(\"Quantization of integer part=\",integ)\n",
    "\n",
    "#############################################################################\n",
    "\n",
    "\n",
    "nnodes_phi = 32\n",
    "nnodes_rho = 32\n",
    "activ      = \"relu\"\n",
    "#activ      = \"elu\"\n",
    "REGL = regularizers.L1(0.0001) \n",
    "\n",
    "\n",
    "# Number of target classes\n",
    "nclasses = len(Y_train_val[0]) \n",
    "\n",
    "# Instantiate Tensorflow input tensors in Batch mode \n",
    "inp = Input(shape=(nconstit,nfeat), name=\"inp\")   # Conv1D input format\n",
    "\n",
    "\n",
    "# Input point features BatchNormalization \n",
    "#h = BatchNormalization(name='BatchNorm')(inp)\n",
    "#h = QBatchNormalization(name='batchnorm', beta_quantizer=qbits, gamma_quantizer=qbits)(inp)\n",
    "h=inp\n",
    "# Phi MLP ( permutation equivariant layers )\n",
    "h = QDense(nnodes_phi, kernel_quantizer=qbits, bias_quantizer=qbits,name='qdense_phi1', kernel_regularizer=REGL, bias_regularizer=REGL )(h)\n",
    "h = QActivation(qact,name='qrelu_phi1')(h)\n",
    "h = QDense(nnodes_phi, kernel_quantizer=qbits, bias_quantizer=qbits,name='qdense_phi2', kernel_regularizer=REGL, bias_regularizer=REGL )(h)\n",
    "h = QActivation(qact,name='qrelu_phi2')(h)\n",
    "h = QDense(nnodes_phi, kernel_quantizer=qbits, bias_quantizer=qbits,name='qdense_phi3', kernel_regularizer=REGL, bias_regularizer=REGL )(h)\n",
    "phi_out = QActivation(qact,name='qrelu_phi3')(h)\n",
    " \n",
    "# Linear activation to change HLS bitwidth to fix overflow in AveragePooling\n",
    "#h = QActivation(activation='quantized_bits(14,5)', name = 'linear_activation')(h)\n",
    "\n",
    "# Agregate features (taking mean) over set elements  \n",
    "mean = GlobalAveragePooling1D(name='avgpool')(phi_out)      # return mean of features over elements\n",
    "#mean = tf.reduce_mean(phi_out, axis=1)                     # return mean of features over elements\n",
    "\n",
    "\n",
    "# Rho MLP\n",
    "h = QDense(nnodes_rho, kernel_quantizer=qbits, bias_quantizer=qbits,name='qdense_rho1', kernel_regularizer=REGL, bias_regularizer=REGL )(mean)\n",
    "h = QActivation(qact,name='qrelu_rho1')(h)\n",
    "h = QDense(nnodes_rho, kernel_quantizer=qbits, bias_quantizer=qbits,name='qdense_rho2', kernel_regularizer=REGL, bias_regularizer=REGL )(h)\n",
    "h = QActivation(qact,name='qrelu_rho2')(h)\n",
    "h = QDense(nclasses, kernel_quantizer=qbits, bias_quantizer=qbits,name='qdense_rho3', kernel_regularizer=REGL, bias_regularizer=REGL )(h)\n",
    "#out = Activation('softmax',name='softmax')(h)\n",
    "out = Activation('sigmoid',name='sigmoid')(h)\n",
    "\n",
    "# Build the model\n",
    "model = Model(inputs=inp, outputs=out)\n",
    "\n",
    "# Define the optimizer ( minimization algorithm )\n",
    "#optim = SGD(learning_rate=0.0005,decay=1e-6)\n",
    "optim = Adam(learning_rate=0.0003)\n",
    "#optim = Adam()\n",
    "\n",
    "# compile the model\n",
    "#model.compile(optimizer=optim, loss='categorical_crossentropy', metrics=['categorical_accuracy'])\n",
    "model.compile(optimizer=optim, loss='binary_crossentropy', metrics=['accuracy'])\n",
    "\n",
    "# print the model summary\n",
    "model.summary()\n",
    "\n",
    "\n"
   ]
  },
  {
   "cell_type": "markdown",
   "metadata": {
    "id": "YlDvqPkIBn48"
   },
   "source": [
    "## Run training"
   ]
  },
  {
   "cell_type": "code",
   "execution_count": 5,
   "metadata": {
    "colab": {
     "base_uri": "https://localhost:8080/"
    },
    "executionInfo": {
     "elapsed": 9682,
     "status": "ok",
     "timestamp": 1616956534957,
     "user": {
      "displayName": "Andre Sznajder",
      "photoUrl": "https://lh3.googleusercontent.com/-Bujzmul3q4w/AAAAAAAAAAI/AAAAAAAAA30/Zzdg4zcPB-8/s64/photo.jpg",
      "userId": "12562331206892861623"
     },
     "user_tz": -120
    },
    "id": "p3lHpPv-Bn49",
    "outputId": "252bb588-0b97-49ce-c444-60926c01c2f8"
   },
   "outputs": [
    {
     "name": "stdout",
     "output_type": "stream",
     "text": [
      "Model name :  QDeepSets_PermutationInv_nconst_16_nbits_8\n",
      "WARNING:tensorflow:`period` argument is deprecated. Please use `save_freq` to specify the frequency in number of batches seen.\n",
      "Epoch 1/60\n"
     ]
    },
    {
     "name": "stderr",
     "output_type": "stream",
     "text": [
      "2023-12-15 06:10:12.023279: W tensorflow/core/platform/profile_utils/cpu_utils.cc:128] Failed to get CPU frequency: 0 Hz\n"
     ]
    },
    {
     "name": "stdout",
     "output_type": "stream",
     "text": [
      "875/875 [==============================] - 4s 4ms/step - loss: 0.6326 - accuracy: 0.7339 - val_loss: 0.6049 - val_accuracy: 0.7434 - lr: 3.0000e-04\n",
      "Epoch 2/60\n",
      "875/875 [==============================] - 3s 4ms/step - loss: 0.5971 - accuracy: 0.7457 - val_loss: 0.5898 - val_accuracy: 0.7482 - lr: 3.0000e-04\n",
      "Epoch 3/60\n",
      "875/875 [==============================] - 3s 3ms/step - loss: 0.5862 - accuracy: 0.7484 - val_loss: 0.5813 - val_accuracy: 0.7497 - lr: 3.0000e-04\n",
      "Epoch 4/60\n",
      "875/875 [==============================] - 3s 3ms/step - loss: 0.5776 - accuracy: 0.7509 - val_loss: 0.5739 - val_accuracy: 0.7498 - lr: 3.0000e-04\n",
      "Epoch 5/60\n",
      "875/875 [==============================] - 3s 4ms/step - loss: 0.5703 - accuracy: 0.7535 - val_loss: 0.5677 - val_accuracy: 0.7516 - lr: 3.0000e-04\n",
      "Epoch 6/60\n",
      "875/875 [==============================] - 3s 4ms/step - loss: 0.5647 - accuracy: 0.7550 - val_loss: 0.5648 - val_accuracy: 0.7522 - lr: 3.0000e-04\n",
      "Epoch 7/60\n",
      "875/875 [==============================] - 3s 3ms/step - loss: 0.5604 - accuracy: 0.7553 - val_loss: 0.5606 - val_accuracy: 0.7527 - lr: 3.0000e-04\n",
      "Epoch 8/60\n",
      "875/875 [==============================] - 3s 3ms/step - loss: 0.5573 - accuracy: 0.7563 - val_loss: 0.5568 - val_accuracy: 0.7544 - lr: 3.0000e-04\n",
      "Epoch 9/60\n",
      "875/875 [==============================] - 3s 4ms/step - loss: 0.5540 - accuracy: 0.7570 - val_loss: 0.5541 - val_accuracy: 0.7551 - lr: 3.0000e-04\n",
      "Epoch 10/60\n",
      "875/875 [==============================] - 3s 4ms/step - loss: 0.5512 - accuracy: 0.7578 - val_loss: 0.5548 - val_accuracy: 0.7552 - lr: 3.0000e-04\n",
      "Epoch 11/60\n",
      "875/875 [==============================] - 3s 3ms/step - loss: 0.5496 - accuracy: 0.7579 - val_loss: 0.5513 - val_accuracy: 0.7569 - lr: 3.0000e-04\n",
      "Epoch 12/60\n",
      "875/875 [==============================] - 3s 3ms/step - loss: 0.5471 - accuracy: 0.7602 - val_loss: 0.5480 - val_accuracy: 0.7571 - lr: 3.0000e-04\n",
      "Epoch 13/60\n",
      "875/875 [==============================] - 3s 3ms/step - loss: 0.5458 - accuracy: 0.7591 - val_loss: 0.5488 - val_accuracy: 0.7579 - lr: 3.0000e-04\n",
      "Epoch 14/60\n",
      "875/875 [==============================] - 4s 4ms/step - loss: 0.5437 - accuracy: 0.7604 - val_loss: 0.5451 - val_accuracy: 0.7582 - lr: 3.0000e-04\n",
      "Epoch 15/60\n",
      "875/875 [==============================] - 3s 3ms/step - loss: 0.5425 - accuracy: 0.7600 - val_loss: 0.5464 - val_accuracy: 0.7567 - lr: 3.0000e-04\n",
      "Epoch 16/60\n",
      "875/875 [==============================] - 3s 3ms/step - loss: 0.5406 - accuracy: 0.7621 - val_loss: 0.5426 - val_accuracy: 0.7595 - lr: 3.0000e-04\n",
      "Epoch 17/60\n",
      "875/875 [==============================] - 3s 3ms/step - loss: 0.5392 - accuracy: 0.7619 - val_loss: 0.5412 - val_accuracy: 0.7593 - lr: 3.0000e-04\n",
      "Epoch 18/60\n",
      "875/875 [==============================] - 3s 4ms/step - loss: 0.5379 - accuracy: 0.7617 - val_loss: 0.5400 - val_accuracy: 0.7591 - lr: 3.0000e-04\n",
      "Epoch 19/60\n",
      "875/875 [==============================] - 3s 3ms/step - loss: 0.5363 - accuracy: 0.7624 - val_loss: 0.5393 - val_accuracy: 0.7608 - lr: 3.0000e-04\n",
      "Epoch 20/60\n",
      "875/875 [==============================] - 3s 3ms/step - loss: 0.5354 - accuracy: 0.7632 - val_loss: 0.5382 - val_accuracy: 0.7610 - lr: 3.0000e-04\n",
      "Epoch 21/60\n",
      "875/875 [==============================] - 3s 3ms/step - loss: 0.5345 - accuracy: 0.7630 - val_loss: 0.5414 - val_accuracy: 0.7604 - lr: 3.0000e-04\n",
      "Epoch 22/60\n",
      "875/875 [==============================] - 3s 4ms/step - loss: 0.5332 - accuracy: 0.7634 - val_loss: 0.5359 - val_accuracy: 0.7618 - lr: 3.0000e-04\n",
      "Epoch 23/60\n",
      "875/875 [==============================] - 3s 3ms/step - loss: 0.5321 - accuracy: 0.7642 - val_loss: 0.5353 - val_accuracy: 0.7619 - lr: 3.0000e-04\n",
      "Epoch 24/60\n",
      "875/875 [==============================] - 3s 3ms/step - loss: 0.5309 - accuracy: 0.7642 - val_loss: 0.5367 - val_accuracy: 0.7593 - lr: 3.0000e-04\n",
      "Epoch 25/60\n",
      "875/875 [==============================] - 3s 3ms/step - loss: 0.5313 - accuracy: 0.7639 - val_loss: 0.5359 - val_accuracy: 0.7614 - lr: 3.0000e-04\n",
      "Epoch 26/60\n",
      "875/875 [==============================] - 4s 4ms/step - loss: 0.5292 - accuracy: 0.7649 - val_loss: 0.5370 - val_accuracy: 0.7614 - lr: 3.0000e-04\n",
      "Epoch 27/60\n",
      "875/875 [==============================] - 3s 4ms/step - loss: 0.5287 - accuracy: 0.7642 - val_loss: 0.5335 - val_accuracy: 0.7619 - lr: 3.0000e-04\n",
      "Epoch 28/60\n",
      "875/875 [==============================] - 3s 3ms/step - loss: 0.5281 - accuracy: 0.7652 - val_loss: 0.5310 - val_accuracy: 0.7625 - lr: 3.0000e-04\n",
      "Epoch 29/60\n",
      "875/875 [==============================] - 3s 3ms/step - loss: 0.5275 - accuracy: 0.7652 - val_loss: 0.5311 - val_accuracy: 0.7626 - lr: 3.0000e-04\n",
      "Epoch 30/60\n",
      "875/875 [==============================] - 3s 3ms/step - loss: 0.5270 - accuracy: 0.7656 - val_loss: 0.5301 - val_accuracy: 0.7623 - lr: 3.0000e-04\n",
      "Epoch 31/60\n",
      "875/875 [==============================] - 3s 4ms/step - loss: 0.5267 - accuracy: 0.7652 - val_loss: 0.5296 - val_accuracy: 0.7627 - lr: 3.0000e-04\n",
      "Epoch 32/60\n",
      "875/875 [==============================] - 3s 3ms/step - loss: 0.5258 - accuracy: 0.7659 - val_loss: 0.5352 - val_accuracy: 0.7615 - lr: 3.0000e-04\n",
      "Epoch 33/60\n",
      "875/875 [==============================] - 3s 3ms/step - loss: 0.5258 - accuracy: 0.7657 - val_loss: 0.5322 - val_accuracy: 0.7632 - lr: 3.0000e-04\n",
      "Epoch 34/60\n",
      "875/875 [==============================] - 3s 3ms/step - loss: 0.5249 - accuracy: 0.7659 - val_loss: 0.5307 - val_accuracy: 0.7625 - lr: 3.0000e-04\n",
      "Epoch 35/60\n",
      "875/875 [==============================] - 4s 4ms/step - loss: 0.5240 - accuracy: 0.7656 - val_loss: 0.5294 - val_accuracy: 0.7623 - lr: 3.0000e-04\n",
      "Epoch 36/60\n",
      "875/875 [==============================] - 3s 3ms/step - loss: 0.5243 - accuracy: 0.7657 - val_loss: 0.5375 - val_accuracy: 0.7598 - lr: 3.0000e-04\n",
      "Epoch 37/60\n",
      "875/875 [==============================] - 3s 3ms/step - loss: 0.5233 - accuracy: 0.7658 - val_loss: 0.5271 - val_accuracy: 0.7624 - lr: 3.0000e-04\n",
      "Epoch 38/60\n",
      "875/875 [==============================] - 3s 3ms/step - loss: 0.5230 - accuracy: 0.7662 - val_loss: 0.5263 - val_accuracy: 0.7626 - lr: 3.0000e-04\n",
      "Epoch 39/60\n",
      "875/875 [==============================] - 3s 4ms/step - loss: 0.5221 - accuracy: 0.7669 - val_loss: 0.5322 - val_accuracy: 0.7608 - lr: 3.0000e-04\n",
      "Epoch 40/60\n",
      "875/875 [==============================] - 3s 4ms/step - loss: 0.5219 - accuracy: 0.7656 - val_loss: 0.5266 - val_accuracy: 0.7628 - lr: 3.0000e-04\n",
      "Epoch 41/60\n",
      "875/875 [==============================] - 3s 4ms/step - loss: 0.5213 - accuracy: 0.7663 - val_loss: 0.5271 - val_accuracy: 0.7624 - lr: 3.0000e-04\n",
      "Epoch 42/60\n",
      "875/875 [==============================] - 3s 3ms/step - loss: 0.5209 - accuracy: 0.7662 - val_loss: 0.5253 - val_accuracy: 0.7634 - lr: 3.0000e-04\n",
      "Epoch 43/60\n",
      "875/875 [==============================] - 4s 4ms/step - loss: 0.5205 - accuracy: 0.7664 - val_loss: 0.5262 - val_accuracy: 0.7638 - lr: 3.0000e-04\n",
      "Epoch 44/60\n",
      "875/875 [==============================] - 3s 4ms/step - loss: 0.5204 - accuracy: 0.7665 - val_loss: 0.5245 - val_accuracy: 0.7634 - lr: 3.0000e-04\n",
      "Epoch 45/60\n",
      "875/875 [==============================] - 3s 3ms/step - loss: 0.5194 - accuracy: 0.7666 - val_loss: 0.5239 - val_accuracy: 0.7636 - lr: 3.0000e-04\n",
      "Epoch 46/60\n",
      "875/875 [==============================] - 3s 4ms/step - loss: 0.5195 - accuracy: 0.7671 - val_loss: 0.5235 - val_accuracy: 0.7634 - lr: 3.0000e-04\n",
      "Epoch 47/60\n",
      "875/875 [==============================] - 4s 4ms/step - loss: 0.5186 - accuracy: 0.7667 - val_loss: 0.5234 - val_accuracy: 0.7627 - lr: 3.0000e-04\n",
      "Epoch 48/60\n",
      "875/875 [==============================] - 3s 4ms/step - loss: 0.5188 - accuracy: 0.7663 - val_loss: 0.5226 - val_accuracy: 0.7638 - lr: 3.0000e-04\n",
      "Epoch 49/60\n",
      "875/875 [==============================] - 3s 3ms/step - loss: 0.5183 - accuracy: 0.7666 - val_loss: 0.5248 - val_accuracy: 0.7634 - lr: 3.0000e-04\n",
      "Epoch 50/60\n",
      "875/875 [==============================] - 3s 3ms/step - loss: 0.5182 - accuracy: 0.7671 - val_loss: 0.5228 - val_accuracy: 0.7635 - lr: 3.0000e-04\n",
      "Epoch 51/60\n",
      "875/875 [==============================] - 4s 4ms/step - loss: 0.5173 - accuracy: 0.7673 - val_loss: 0.5226 - val_accuracy: 0.7635 - lr: 3.0000e-04\n",
      "Epoch 52/60\n",
      "875/875 [==============================] - 3s 4ms/step - loss: 0.5173 - accuracy: 0.7669 - val_loss: 0.5224 - val_accuracy: 0.7628 - lr: 3.0000e-04\n",
      "Epoch 53/60\n",
      "875/875 [==============================] - 3s 4ms/step - loss: 0.5170 - accuracy: 0.7669 - val_loss: 0.5259 - val_accuracy: 0.7620 - lr: 3.0000e-04\n",
      "Epoch 54/60\n",
      "875/875 [==============================] - 3s 3ms/step - loss: 0.5167 - accuracy: 0.7667 - val_loss: 0.5277 - val_accuracy: 0.7620 - lr: 3.0000e-04\n",
      "Epoch 55/60\n",
      "875/875 [==============================] - 4s 4ms/step - loss: 0.5167 - accuracy: 0.7668 - val_loss: 0.5208 - val_accuracy: 0.7639 - lr: 3.0000e-04\n",
      "Epoch 56/60\n",
      "875/875 [==============================] - 3s 4ms/step - loss: 0.5162 - accuracy: 0.7673 - val_loss: 0.5221 - val_accuracy: 0.7633 - lr: 3.0000e-04\n",
      "Epoch 57/60\n",
      "875/875 [==============================] - 3s 4ms/step - loss: 0.5163 - accuracy: 0.7675 - val_loss: 0.5233 - val_accuracy: 0.7626 - lr: 3.0000e-04\n",
      "Epoch 58/60\n",
      "875/875 [==============================] - 3s 4ms/step - loss: 0.5157 - accuracy: 0.7672 - val_loss: 0.5201 - val_accuracy: 0.7648 - lr: 3.0000e-04\n",
      "Epoch 59/60\n",
      "875/875 [==============================] - 4s 4ms/step - loss: 0.5148 - accuracy: 0.7673 - val_loss: 0.5209 - val_accuracy: 0.7640 - lr: 3.0000e-04\n",
      "Epoch 60/60\n",
      "875/875 [==============================] - 3s 4ms/step - loss: 0.5148 - accuracy: 0.7669 - val_loss: 0.5261 - val_accuracy: 0.7626 - lr: 3.0000e-04\n"
     ]
    }
   ],
   "source": [
    "from tensorflow.keras.callbacks import EarlyStopping, ModelCheckpoint, ReduceLROnPlateau, TensorBoard\n",
    "\n",
    "# Figure o merit to monitor during training\n",
    "merit = 'val_loss'\n",
    "#merit = 'val_accuracy'\n",
    "\n",
    "# early stopping callback\n",
    "es = EarlyStopping(monitor=merit, patience=10)\n",
    "\n",
    "# Learning rate scheduler \n",
    "ls = ReduceLROnPlateau(monitor=merit, factor=0.2, patience=10)\n",
    "\n",
    "# Set NN and output name\n",
    "arch = 'QDeepSets_PermutationInv'\n",
    "fname = arch+'_nconst_'+str(nconstit)+'_nbits_'+str(nbits)\n",
    "print('Model name : ',fname)\n",
    "\n",
    "# model checkpoint callback\n",
    "# this saves our model architecture + parameters into mlp_model.h5\n",
    "chkp = ModelCheckpoint('model_'+fname+'.h5', monitor=merit, \n",
    "                                   verbose=0, save_best_only=True, \n",
    "                                   save_weights_only=False, mode='auto', \n",
    "                                   save_freq='epoch',period=1)\n",
    "\n",
    "#tb = TensorBoard(\"/Users/sznajder/WorkM1/miniforge3/tensorflow_macos/arm64/workdir/logs\")\n",
    "\n",
    "# Train classifier\n",
    "history = model.fit( X_train_val, Y_train_val, \n",
    "                    epochs=60, \n",
    "                    batch_size=128, \n",
    "                    verbose=1,\n",
    "                    validation_split=0.3,\n",
    "                    callbacks=[es,ls,chkp])\n",
    " "
   ]
  },
  {
   "cell_type": "markdown",
   "metadata": {
    "id": "np12nLtsBn5A"
   },
   "source": [
    "## Plot performance\n",
    "Here, we plot the history of the training and the performance in a ROC curve using the best saved model"
   ]
  },
  {
   "cell_type": "code",
   "execution_count": 6,
   "metadata": {
    "colab": {
     "base_uri": "https://localhost:8080/",
     "height": 605
    },
    "executionInfo": {
     "elapsed": 10466,
     "status": "ok",
     "timestamp": 1616956535743,
     "user": {
      "displayName": "Andre Sznajder",
      "photoUrl": "https://lh3.googleusercontent.com/-Bujzmul3q4w/AAAAAAAAAAI/AAAAAAAAA30/Zzdg4zcPB-8/s64/photo.jpg",
      "userId": "12562331206892861623"
     },
     "user_tz": -120
    },
    "id": "Z_dscosMBn5B",
    "outputId": "6f9f7a67-1607-42ab-a9f8-5635b360eaec"
   },
   "outputs": [
    {
     "name": "stdout",
     "output_type": "stream",
     "text": [
      "(40000, 16, 6)\n",
      "(40000, 1)\n"
     ]
    },
    {
     "data": {
      "image/png": "[encoded data removed]",
      "text/plain": [
       "<Figure size 1500x1000 with 4 Axes>"
      ]
     },
     "metadata": {},
     "output_type": "display_data"
    }
   ],
   "source": [
    "from sklearn.metrics import roc_curve, auc\n",
    "import matplotlib.pyplot as plt\n",
    "import pandas as pd\n",
    "\n",
    "# Load the best saved model\n",
    "model = tf.keras.models.load_model('model_'+fname+'.h5', custom_objects={\"QDense\": QDense, \"QActivation\": QActivation, \"quantized_bits\": quantized_bits})\n",
    "\n",
    "#plt.rcParams['axes.unicode_minus'] = False\n",
    "\n",
    "# Plot loss vs epoch\n",
    "plt.figure(figsize=(15,10))\n",
    "ax = plt.subplot(2, 2, 1)\n",
    "ax.plot(history.history['loss'], label='loss')\n",
    "ax.plot(history.history['val_loss'], label='val loss')\n",
    "ax.legend(loc=\"upper right\")\n",
    "ax.set_xlabel('epoch')\n",
    "ax.set_ylabel('loss')\n",
    "\n",
    "# Plot accuracy vs epoch\n",
    "ax = plt.subplot(2, 2, 2)\n",
    "ax.plot(history.history['accuracy'], label='accuracy')\n",
    "ax.plot(history.history['val_accuracy'], label='val accuracy')\n",
    "#ax.plot(history.history['categorical_accuracy'], label='categorical_accuracy')\n",
    "#ax.plot(history.history['val_categorical_accuracy'], label='val categorical accuracy')\n",
    "ax.legend(loc=\"upper left\")\n",
    "ax.set_xlabel('epoch')\n",
    "ax.set_ylabel('acc')\n",
    "\n",
    "'''\n",
    "# Plot the ROC curves\n",
    "#labels = ['gluon', 'quark', 'W', 'Z', 'top']\n",
    "labels = ['b']\n",
    "fpr = {}\n",
    "tpr = {}\n",
    "auc1 = {}\n",
    "precision = {}\n",
    "recall = {}\n",
    "NN = {}\n",
    "NP = {}\n",
    "TP = {}\n",
    "FP = {}\n",
    "TN = {}\n",
    "FN = {}\n",
    "tresholds = {}\n",
    "'''\n",
    "\n",
    "\n",
    "ax = plt.subplot(2, 2, 3)\n",
    "Y_predict = model.predict(X_test)\n",
    "\n",
    "\n",
    "'''\n",
    "# Loop over classes(labels) to get metrics per class\n",
    "for i, label in enumerate(labels):\n",
    "    fpr[label], tpr[label], tresholds[label] = roc_curve(Y_test[:,i], Y_predict[:,i])\n",
    "#    precision[label], recall[label], tresholds = precision_recall_curve(Y_test[:,i], Y_predict[:,i]) \n",
    "    print( np.unique(Y_test[:,i], return_counts=True) )\n",
    "    _ , N = np.unique(Y_test[:,i], return_counts=True) # count the NEGATIVES and POSITIVES samples in your test set\n",
    "    NN[label] = N[0]                   # number of NEGATIVES \n",
    "    NP[label] = N[1]                   # number of POSITIVES\n",
    "    TP[label] = tpr[label]*NP[label]\n",
    "    FP[label] = fpr[label]*NN[label] \n",
    "    TN[label] = NN[label] - FP[label]\n",
    "    FN[label] = NP[label] - TP[label]\n",
    "\n",
    "    auc1[label] = auc(fpr[label], tpr[label])\n",
    "    ax.plot(tpr[label],fpr[label],label='%s tagger, auc = %.1f%%'%(label,auc1[label]*100.))\n",
    "'''\n",
    "\n",
    "fpr, tpr, tresholds = roc_curve(Y_test, Y_predict)\n",
    "auc1 = auc(fpr, tpr)\n",
    "ax.plot(tpr,fpr,label='%s tagger, auc = %.1f%%'%(\"b\",auc1*100.))\n",
    "\n",
    "ax.semilogy()\n",
    "ax.set_xlabel(\"sig. efficiency\")\n",
    "ax.set_ylabel(\"bkg. mistag rate\")\n",
    "ax.set_ylim(0.001,1)\n",
    "#ax.set_grid(True)\n",
    "ax.legend(loc='upper left')\n",
    "#plt.savefig('%s/ROC.pdf'%(options.outputDir))\n",
    "\n",
    "\n",
    "'''\n",
    "# Plot DNN output \n",
    "ax = plt.subplot(2, 2, 4)\n",
    "X = np.linspace(0.0, 1.0, 20)\n",
    "hist={}\n",
    "for i, name in enumerate(labels):\n",
    "    hist[name] = ax.hist(Y_predict, bins=X, label=name ,histtype='step')\n",
    "ax.semilogy()\n",
    "ax.set_xlabel('DNN Output')\n",
    "ax.legend(prop={'size': 10})\n",
    "ax.legend(loc='lower left')\n",
    "'''\n",
    "\n",
    "print(X_test.shape)\n",
    "print(Y_predict.shape)\n",
    "\n",
    "# Plot DNN output \n",
    "# Selects events with NNoutput > cut\n",
    "\n",
    "x_sig = ak.from_parquet(PATH+\"x_sig_scaled.parquet\")\n",
    "x_bkg = ak.from_parquet(PATH+\"x_bkg_scaled.parquet\")\n",
    "\n",
    "x_sig = ak.to_numpy(x_sig)\n",
    "x_bkg = ak.to_numpy(x_bkg)\n",
    "\n",
    "y_sig_predict = model.predict(x_sig)\n",
    "y_bkg_predict = model.predict(x_bkg)\n",
    "\n",
    "\n",
    "ax = plt.subplot(2, 2, 4)\n",
    "X = np.linspace(0.0, 1.0, 20)\n",
    "histo = ax.hist(y_sig_predict, bins=X, label='b signal' ,histtype='step')\n",
    "histo = ax.hist(y_bkg_predict, bins=X, label='background' ,histtype='step')\n",
    "#ax.semilogy()\n",
    "ax.set_xlabel('DNN Output')\n",
    "ax.legend(prop={'size': 10})\n",
    "ax.legend(loc='upper right')\n",
    "\n",
    "\n",
    "# Display plots\n",
    "fig = plt.gcf()\n",
    "plt.show()"
   ]
  },
  {
   "cell_type": "code",
   "execution_count": null,
   "metadata": {},
   "outputs": [],
   "source": []
  },
  {
   "cell_type": "code",
   "execution_count": null,
   "metadata": {},
   "outputs": [],
   "source": []
  },
  {
   "cell_type": "code",
   "execution_count": null,
   "metadata": {},
   "outputs": [],
   "source": []
  },
  {
   "cell_type": "code",
   "execution_count": null,
   "metadata": {},
   "outputs": [],
   "source": []
  },
  {
   "cell_type": "code",
   "execution_count": null,
   "metadata": {},
   "outputs": [],
   "source": []
  }
 ],
 "metadata": {
  "accelerator": "GPU",
  "colab": {
   "collapsed_sections": [],
   "name": "JetTagging_MLP_TFKeras.ipynb",
   "provenance": [
    {
     "file_id": "1_LtW5Af1ruCzp6IH18NNj2K3Vbgqto-F",
     "timestamp": 1613800914899
    },
    {
     "file_id": "https://github.com/thongonary/machine_learning_vbscan/blob/master/5-conv2d.ipynb",
     "timestamp": 1551264063701
    }
   ]
  },
  "kernelspec": {
   "display_name": "Python 3 (ipykernel)",
   "language": "python",
   "name": "python3"
  },
  "language_info": {
   "codemirror_mode": {
    "name": "ipython",
    "version": 3
   },
   "file_extension": ".py",
   "mimetype": "text/x-python",
   "name": "python",
   "nbconvert_exporter": "python",
   "pygments_lexer": "ipython3",
   "version": "3.8.18"
  }
 },
 "nbformat": 4,
 "nbformat_minor": 4
}
